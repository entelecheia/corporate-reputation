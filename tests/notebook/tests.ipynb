{
 "cells": [
  {
   "attachments": {},
   "cell_type": "markdown",
   "metadata": {
    "id": "cjgz1WTcPWee"
   },
   "source": [
    "# HyFI Test Notebook\n",
    "\n",
    "This Jupyter Notebook is used to test the HyFI package. It contains examples of how to use the package and how to create a new HyFI model.\n"
   ]
  },
  {
   "cell_type": "code",
   "execution_count": 1,
   "metadata": {},
   "outputs": [
    {
     "name": "stderr",
     "output_type": "stream",
     "text": [
      "/home/yj.lee/.venvs/corporate-reputation/lib/python3.8/site-packages/tqdm/auto.py:21: TqdmWarning: IProgress not found. Please update jupyter and ipywidgets. See https://ipywidgets.readthedocs.io/en/stable/user_install.html\n",
      "  from .autonotebook import tqdm as notebook_tqdm\n"
     ]
    }
   ],
   "source": [
    "from corprep import HyFI"
   ]
  },
  {
   "attachments": {},
   "cell_type": "markdown",
   "metadata": {},
   "source": [
    "## Check Version\n",
    "\n",
    "Now, let's get the version of the `hyfi` package.\n"
   ]
  },
  {
   "cell_type": "code",
   "execution_count": 2,
   "metadata": {
    "id": "BzxPwsOVPWef"
   },
   "outputs": [
    {
     "name": "stdout",
     "output_type": "stream",
     "text": [
      "HyFI version: 1.2.2\n",
      " 1.2.2\n"
     ]
    }
   ],
   "source": [
    "version = HyFI.__version__\n",
    "print(\"HyFI version:\", version)\n"
   ]
  },
  {
   "cell_type": "code",
   "execution_count": 3,
   "metadata": {},
   "outputs": [
    {
     "name": "stderr",
     "output_type": "stream",
     "text": [
      "/tmp/ipykernel_4181793/1741726459.py:1: PydanticDeprecatedSince20: The `dict` method is deprecated; use `model_dump` instead. Deprecated in Pydantic V2.0 to be removed in V3.0. See Pydantic V2 Migration Guide at https://errors.pydantic.dev/2.0.2/migration/\n",
      "  HyFI.dotenv().dict()\n"
     ]
    },
    {
     "data": {
      "text/plain": [
       "{'DOTENV_FILENAME': '.env',\n",
       " 'DOTENV_DIR': '',\n",
       " 'DOTENV_PATH': '',\n",
       " 'HYFI_RESOURCE_DIR': '',\n",
       " 'HYFI_GLOBAL_ROOT': '',\n",
       " 'HYFI_GLOBAL_WORKSPACE_NAME': 'workspace',\n",
       " 'HYFI_PROJECT_NAME': '',\n",
       " 'HYFI_PROJECT_DESC': '',\n",
       " 'HYFI_PROJECT_ROOT': '',\n",
       " 'HYFI_PROJECT_WORKSPACE_NAME': 'workspace',\n",
       " 'HYFI_LOG_LEVEL': 'WARNING',\n",
       " 'HYFI_VERBOSE': False,\n",
       " 'HYFI_NUM_WORKERS': 1,\n",
       " 'CACHED_PATH_CACHE_ROOT': '',\n",
       " 'CUDA_DEVICE_ORDER': 'PCI_BUS_ID',\n",
       " 'CUDA_VISIBLE_DEVICES': '',\n",
       " 'WANDB_PROJECT': '',\n",
       " 'WANDB_DISABLED': '',\n",
       " 'WANDB_DIR': '',\n",
       " 'WANDB_NOTEBOOK_NAME': '',\n",
       " 'WANDB_SILENT': False,\n",
       " 'LABEL_STUDIO_SERVER': '',\n",
       " 'KMP_DUPLICATE_LIB_OK': 'True',\n",
       " 'TOKENIZERS_PARALLELISM': False}"
      ]
     },
     "execution_count": 3,
     "metadata": {},
     "output_type": "execute_result"
    }
   ],
   "source": [
    "HyFI.dotenv().dict()\n"
   ]
  },
  {
   "cell_type": "code",
   "execution_count": 4,
   "metadata": {},
   "outputs": [
    {
     "name": "stdout",
     "output_type": "stream",
     "text": [
      "The system workspace root is /mnt/nvme1n1p2/home/yj.lee/workspace and the user is yj.lee.\n",
      "\n"
     ]
    }
   ],
   "source": [
    "# Test expanding $PWD and $USER variables\n",
    "posix_expr = \"The system workspace root is $WORKSPACE_ROOT and the user is $USER.\"\n",
    "\n",
    "expanded_expr = HyFI.expand_posix_vars(posix_expr)\n",
    "print(expanded_expr)\n"
   ]
  },
  {
   "attachments": {},
   "cell_type": "markdown",
   "metadata": {},
   "source": [
    "## Initialize Project\n",
    "\n",
    "We'll initialize the project using the `HyFI.init_project` function. The function takes the following parameters:\n",
    "\n",
    "- `project_name`: Name of the project to use.\n",
    "- `project_description`: Description of the project that will be used.\n",
    "- `project_root`: Root directory of the project.\n",
    "- `project_workspace_name`: Name of the project's workspace directory.\n",
    "- `global_hyfi_root`: Root directory of the global hyfi.\n",
    "- `global_workspace_name`: Name of the global hierachical workspace directory.\n",
    "- `num_workers`: Number of workers to run.\n",
    "- `log_level`: Log level for the log.\n",
    "- `autotime`: Whether to automatically set time and / or keep track of run times.\n",
    "- `retina`: Whether to use retina or not.\n",
    "- `verbose`: Enables or disables logging\n",
    "\n",
    "We'll check if we're running in Google Colab, and if so, we'll mount Google Drive.\n"
   ]
  },
  {
   "cell_type": "code",
   "execution_count": 7,
   "metadata": {},
   "outputs": [
    {
     "name": "stderr",
     "output_type": "stream",
     "text": [
      "INFO:hyfi.utils.notebooks:Google Colab not detected.\n",
      "INFO:hyfi.utils.notebooks:Extension autotime not found. Install it first.\n",
      "DEBUG:hyfi.core.config:HyFiConfig initialized with hyfi_config_module=corprep.conf, hyfi_config_path=pkg://corprep.conf, hyfi_user_config_path=.\n",
      "INFO:hyfi.composer:Composing `ProjectConfig` class with `__init__` config in `project` group.\n",
      "DEBUG:hydra.core.utils:Setting JobRuntime:name=app\n",
      "DEBUG:hydra.core.utils:Setting JobRuntime:name=app\n",
      "DEBUG:hydra.core.utils:Setting JobRuntime:name=app\n",
      "DEBUG:hydra.core.utils:Setting JobRuntime:name=app\n",
      "INFO:hyfi.composer:Composing `JobLibConfig` class with `__init__` config in `joblib` group.\n",
      "DEBUG:hydra.core.utils:Setting JobRuntime:name=app\n",
      "DEBUG:hydra.core.utils:Setting JobRuntime:name=app\n",
      "DEBUG:hydra.core.utils:Setting JobRuntime:name=app\n",
      "DEBUG:hydra.core.utils:Setting JobRuntime:name=app\n",
      "DEBUG:hydra.core.utils:Setting JobRuntime:name=app\n",
      "DEBUG:hydra.core.utils:Setting JobRuntime:name=app\n",
      "INFO:hyfi.composer:Composing `PathConfig` class with `__init__` config in `path` group.\n",
      "DEBUG:hydra.core.utils:Setting JobRuntime:name=app\n",
      "DEBUG:hydra.core.utils:Setting JobRuntime:name=app\n",
      "DEBUG:hydra.core.utils:Setting JobRuntime:name=app\n",
      "DEBUG:hydra.core.utils:Setting JobRuntime:name=app\n",
      "DEBUG:hydra.core.utils:Setting JobRuntime:name=app\n",
      "DEBUG:hydra.core.utils:Setting JobRuntime:name=app\n",
      "INFO:hyfi.joblib:initialized batcher with <hyfi.joblib.batch.batcher.Batcher object at 0x7fa7fecddb80>\n"
     ]
    },
    {
     "name": "stdout",
     "output_type": "stream",
     "text": [
      "project_dir: /home/yj.lee/.hyfi/workspace/projects/hyfi\n",
      "project_workspace_dir: /home/yj.lee/.hyfi/workspace/projects/hyfi/workspace\n",
      " /home/yj.lee/.hyfi/workspace/projects/hyfi\n",
      "project_workspace_dir: /home/yj.lee/.hyfi/workspace/projects/hyfi/workspace\n"
     ]
    }
   ],
   "source": [
    "if HyFI.is_colab():\n",
    "    HyFI.mount_google_drive()\n",
    "\n",
    "ws = HyFI.init_project(\n",
    "    project_name=\"hyfi\",\n",
    "    log_level=\"DEBUG\",\n",
    "    verbose=True,\n",
    ")\n",
    "\n",
    "print(\"project_dir:\", ws.root_dir)\n",
    "print(\"project_workspace_dir:\", ws.workspace_dir)\n"
   ]
  },
  {
   "cell_type": "code",
   "execution_count": null,
   "metadata": {},
   "outputs": [],
   "source": [
    "ws.dotenv.dict()\n"
   ]
  },
  {
   "attachments": {},
   "cell_type": "markdown",
   "metadata": {},
   "source": [
    "## Compose Configuration\n",
    "\n",
    "We can use the `HyFI.compose` function to load a configuration file. In this example, we'll use the default configuration by specifying `path=__default__`.\n"
   ]
  },
  {
   "cell_type": "code",
   "execution_count": null,
   "metadata": {},
   "outputs": [],
   "source": [
    "cfg = HyFI.compose(\"path=__batch__\")\n"
   ]
  },
  {
   "attachments": {},
   "cell_type": "markdown",
   "metadata": {},
   "source": [
    "## Display Configuration\n",
    "\n",
    "Now, let's print the loaded configuration using the `HyFI.print` function.\n"
   ]
  },
  {
   "cell_type": "code",
   "execution_count": null,
   "metadata": {},
   "outputs": [],
   "source": [
    "HyFI.print(cfg)\n"
   ]
  },
  {
   "attachments": {},
   "cell_type": "markdown",
   "metadata": {},
   "source": [
    "That's it! This example demonstrated the basic usage of the `hyfi_template` package. You can now use this package to manage your own projects and tasks in a structured manner.\n"
   ]
  },
  {
   "cell_type": "markdown",
   "metadata": {},
   "source": []
  }
 ],
 "metadata": {
  "colab": {
   "name": "corpus.ipynb",
   "provenance": []
  },
  "interpreter": {
   "hash": "f869af7787e6a1c49e09e367fc6e1b81d93d1c6583b43249c80edc047bd13cb2"
  },
  "kernelspec": {
   "display_name": "Python 3",
   "language": "python",
   "name": "python3"
  },
  "language_info": {
   "codemirror_mode": {
    "name": "ipython",
    "version": 3
   },
   "file_extension": ".py",
   "mimetype": "text/x-python",
   "name": "python",
   "nbconvert_exporter": "python",
   "pygments_lexer": "ipython3",
   "version": "3.8.10"
  },
  "widgets": {
   "application/vnd.jupyter.widget-state+json": {
    "state": {},
    "version_major": 2,
    "version_minor": 0
   }
  }
 },
 "nbformat": 4,
 "nbformat_minor": 1
}
