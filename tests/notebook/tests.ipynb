{
 "cells": [
  {
   "attachments": {},
   "cell_type": "markdown",
   "metadata": {
    "id": "cjgz1WTcPWee"
   },
   "source": [
    "# HyFI Test Notebook\n",
    "\n",
    "This Jupyter Notebook is used to test the HyFI package. It contains examples of how to use the package and how to create a new HyFI model.\n"
   ]
  },
  {
   "cell_type": "code",
   "execution_count": 1,
   "metadata": {},
   "outputs": [
    {
     "name": "stderr",
     "output_type": "stream",
     "text": [
      "/home/yjlee/.venvs/corporate-reputation/lib/python3.8/site-packages/tqdm/auto.py:21: TqdmWarning: IProgress not found. Please update jupyter and ipywidgets. See https://ipywidgets.readthedocs.io/en/stable/user_install.html\n",
      "  from .autonotebook import tqdm as notebook_tqdm\n"
     ]
    }
   ],
   "source": [
    "from corprep import HyFI\n"
   ]
  },
  {
   "attachments": {},
   "cell_type": "markdown",
   "metadata": {},
   "source": [
    "## Check Version\n",
    "\n",
    "Now, let's get the version of the `hyfi` package.\n"
   ]
  },
  {
   "cell_type": "code",
   "execution_count": 2,
   "metadata": {
    "id": "BzxPwsOVPWef"
   },
   "outputs": [
    {
     "name": "stdout",
     "output_type": "stream",
     "text": [
      "HyFI version: 1.17.2\n",
      " 1.17.2\n"
     ]
    }
   ],
   "source": [
    "version = HyFI.__version__\n",
    "print(\"HyFI version:\", version)"
   ]
  },
  {
   "cell_type": "code",
   "execution_count": 3,
   "metadata": {},
   "outputs": [
    {
     "data": {
      "text/plain": [
       "{'DOTENV_FILENAME': '.env',\n",
       " 'DOTENV_DIR': '/raid/cis/yjlee/workspace/projects/corporate-reputation',\n",
       " 'DOTENV_FILE': '/raid/cis/yjlee/workspace/projects/corporate-reputation/.env',\n",
       " 'HYFI_SECRETS_DIR': 'secrets',\n",
       " 'HYFI_RESOURCE_DIR': None,\n",
       " 'HYFI_GLOBAL_ROOT': '/home/yjlee',\n",
       " 'HYFI_GLOBAL_WORKSPACE_NAME': '.hyfi',\n",
       " 'HYFI_PROJECT_NAME': None,\n",
       " 'HYFI_PROJECT_DESC': None,\n",
       " 'HYFI_PROJECT_ROOT': None,\n",
       " 'HYFI_PROJECT_WORKSPACE_NAME': 'workspace',\n",
       " 'HYFI_LOG_LEVEL': 'INFO',\n",
       " 'HYFI_VERBOSE': False,\n",
       " 'HYFI_NUM_WORKERS': 1,\n",
       " 'CACHED_PATH_CACHE_ROOT': None,\n",
       " 'CUDA_DEVICE_ORDER': 'PCI_BUS_ID',\n",
       " 'CUDA_VISIBLE_DEVICES': None,\n",
       " 'WANDB_PROJECT': None,\n",
       " 'WANDB_DISABLED': None,\n",
       " 'WANDB_DIR': None,\n",
       " 'WANDB_NOTEBOOK_NAME': None,\n",
       " 'WANDB_SILENT': None,\n",
       " 'LABEL_STUDIO_SERVER': None,\n",
       " 'KMP_DUPLICATE_LIB_OK': 'True',\n",
       " 'TOKENIZERS_PARALLELISM': False}"
      ]
     },
     "execution_count": 3,
     "metadata": {},
     "output_type": "execute_result"
    }
   ],
   "source": [
    "HyFI.dotenv().dict()"
   ]
  },
  {
   "cell_type": "code",
   "execution_count": 4,
   "metadata": {},
   "outputs": [
    {
     "name": "stdout",
     "output_type": "stream",
     "text": [
      "The system workspace root is /raid/cis/yjlee/workspace and the user is yjlee.\n",
      "\n"
     ]
    }
   ],
   "source": [
    "# Test expanding $PWD and $USER variables\n",
    "posix_expr = \"The system workspace root is $WORKSPACE_ROOT and the user is $USER.\"\n",
    "\n",
    "expanded_expr = HyFI.expand_posix_vars(posix_expr)\n",
    "print(expanded_expr)"
   ]
  },
  {
   "attachments": {},
   "cell_type": "markdown",
   "metadata": {},
   "source": [
    "## Initialize Project\n",
    "\n",
    "We'll initialize the project using the `HyFI.init_project` function. The function takes the following parameters:\n",
    "\n",
    "- `project_name`: Name of the project to use.\n",
    "- `project_description`: Description of the project that will be used.\n",
    "- `project_root`: Root directory of the project.\n",
    "- `project_workspace_name`: Name of the project's workspace directory.\n",
    "- `global_hyfi_root`: Root directory of the global hyfi.\n",
    "- `global_workspace_name`: Name of the global hierachical workspace directory.\n",
    "- `num_workers`: Number of workers to run.\n",
    "- `log_level`: Log level for the log.\n",
    "- `autotime`: Whether to automatically set time and / or keep track of run times.\n",
    "- `retina`: Whether to use retina or not.\n",
    "- `verbose`: Enables or disables logging\n",
    "\n",
    "We'll check if we're running in Google Colab, and if so, we'll mount Google Drive.\n"
   ]
  },
  {
   "cell_type": "code",
   "execution_count": 5,
   "metadata": {},
   "outputs": [
    {
     "name": "stderr",
     "output_type": "stream",
     "text": [
      "INFO:hyfi.utils.notebooks:Google Colab not detected.\n",
      "INFO:hyfi.utils.notebooks:Extension autotime not found. Install it first.\n",
      "DEBUG:matplotlib.pyplot:Loaded backend module://matplotlib_inline.backend_inline version unknown.\n",
      "INFO:hyfi.utils.envs:[/raid/cis/yjlee/workspace/projects/corporate-reputation/tests/notebook/.env] not found, finding .env in parent dirs\n",
      "INFO:hyfi.utils.envs:Loaded .env from [/raid/cis/yjlee/workspace/projects/corporate-reputation/.env]\n",
      "DEBUG:hydra.core.utils:Setting JobRuntime:name=app\n",
      "DEBUG:hydra.core.utils:Setting JobRuntime:name=app\n",
      "DEBUG:hydra.core.utils:Setting JobRuntime:name=app\n",
      "DEBUG:hydra.core.utils:Setting JobRuntime:name=app\n",
      "DEBUG:hydra.core.utils:Setting JobRuntime:name=app\n",
      "DEBUG:hydra.core.utils:Setting JobRuntime:name=app\n",
      "DEBUG:hydra.core.utils:Setting JobRuntime:name=app\n",
      "DEBUG:hydra.core.utils:Setting JobRuntime:name=app\n",
      "INFO:hyfi.joblib.joblib:initialized batcher with <hyfi.joblib.batch.batcher.Batcher object at 0x7fa8240b2910>\n",
      "INFO:hyfi.main.config:HyFi project initialized with hyfi\n"
     ]
    },
    {
     "name": "stdout",
     "output_type": "stream",
     "text": [
      "project_dir: /home/yjlee/.hyfi/projects/hyfi\n",
      "project_workspace_dir: /home/yjlee/.hyfi/projects/hyfi/workspace\n",
      " /home/yjlee/.hyfi/projects/hyfi\n",
      "project_workspace_dir: /home/yjlee/.hyfi/projects/hyfi/workspace\n"
     ]
    }
   ],
   "source": [
    "if HyFI.is_colab():\n",
    "    HyFI.mount_google_drive()\n",
    "\n",
    "ws = HyFI.init_project(\n",
    "    project_name=\"hyfi\",\n",
    "    log_level=\"DEBUG\",\n",
    "    verbose=True,\n",
    ")\n",
    "\n",
    "print(\"project_dir:\", ws.root_dir)\n",
    "print(\"project_workspace_dir:\", ws.workspace_dir)"
   ]
  },
  {
   "cell_type": "code",
   "execution_count": null,
   "metadata": {},
   "outputs": [],
   "source": [
    "ws.dotenv.dict()"
   ]
  },
  {
   "attachments": {},
   "cell_type": "markdown",
   "metadata": {},
   "source": [
    "## Compose Configuration\n",
    "\n",
    "We can use the `HyFI.compose` function to load a configuration file. In this example, we'll use the default configuration by specifying `path=__default__`.\n"
   ]
  },
  {
   "cell_type": "code",
   "execution_count": null,
   "metadata": {},
   "outputs": [],
   "source": [
    "cfg = HyFI.compose(\"path=__batch__\")"
   ]
  },
  {
   "attachments": {},
   "cell_type": "markdown",
   "metadata": {},
   "source": [
    "## Display Configuration\n",
    "\n",
    "Now, let's print the loaded configuration using the `HyFI.print` function.\n"
   ]
  },
  {
   "cell_type": "code",
   "execution_count": null,
   "metadata": {},
   "outputs": [],
   "source": [
    "HyFI.print(cfg)"
   ]
  },
  {
   "cell_type": "code",
   "execution_count": 8,
   "metadata": {},
   "outputs": [
    {
     "data": {
      "text/plain": [
       "'/raid/cis/yjlee/workspace/projects/corporate-reputation'"
      ]
     },
     "execution_count": 8,
     "metadata": {},
     "output_type": "execute_result"
    }
   ],
   "source": []
  },
  {
   "cell_type": "code",
   "execution_count": 9,
   "metadata": {},
   "outputs": [],
   "source": [
    "data_file = f\"{HyFI.dotenv().DOTENV_DIR}/workspace/datasets/processed/kakao_nouns_similar_6.parquet\"\n",
    "data = HyFI.load_dataframe(data_file)"
   ]
  },
  {
   "cell_type": "code",
   "execution_count": 20,
   "metadata": {},
   "outputs": [
    {
     "name": "stdout",
     "output_type": "stream",
     "text": [
      "(477, 17)\n"
     ]
    },
    {
     "data": {
      "text/html": [
       "<div>\n",
       "<style scoped>\n",
       "    .dataframe tbody tr th:only-of-type {\n",
       "        vertical-align: middle;\n",
       "    }\n",
       "\n",
       "    .dataframe tbody tr th {\n",
       "        vertical-align: top;\n",
       "    }\n",
       "\n",
       "    .dataframe thead th {\n",
       "        text-align: right;\n",
       "    }\n",
       "</style>\n",
       "<table border=\"1\" class=\"dataframe\">\n",
       "  <thead>\n",
       "    <tr style=\"text-align: right;\">\n",
       "      <th></th>\n",
       "      <th>cleaned_text</th>\n",
       "      <th>duplicate</th>\n",
       "    </tr>\n",
       "  </thead>\n",
       "  <tbody>\n",
       "    <tr>\n",
       "      <th>32</th>\n",
       "      <td>주요 카카오 서비스카카오 플랫폼</td>\n",
       "      <td>False</td>\n",
       "    </tr>\n",
       "    <tr>\n",
       "      <th>18</th>\n",
       "      <td>다음 카카오 흡수 합병</td>\n",
       "      <td>False</td>\n",
       "    </tr>\n",
       "    <tr>\n",
       "      <th>41</th>\n",
       "      <td>다음커뮤니케이션은 카카오와 합병을 결정했다고 일 공시했다   공식          ...</td>\n",
       "      <td>False</td>\n",
       "    </tr>\n",
       "    <tr>\n",
       "      <th>249</th>\n",
       "      <td>공정위 카카오 불공정거래 조사 착수기업결합모바일 상품권 판매업체 계약 해지 등</td>\n",
       "      <td>True</td>\n",
       "    </tr>\n",
       "    <tr>\n",
       "      <th>88</th>\n",
       "      <td>유상증자파캔분할합병대유신소재다음모토닉추가 상장유원컴텍엘컴텍아이컴포넌트 네오티스   ...</td>\n",
       "      <td>False</td>\n",
       "    </tr>\n",
       "    <tr>\n",
       "      <th>...</th>\n",
       "      <td>...</td>\n",
       "      <td>...</td>\n",
       "    </tr>\n",
       "    <tr>\n",
       "      <th>607</th>\n",
       "      <td>기관외국인 순매수 주요 종목하이닉스삼성전자삼성전기삼성바이오로직스현대차우셀트리온현대...</td>\n",
       "      <td>False</td>\n",
       "    </tr>\n",
       "    <tr>\n",
       "      <th>289</th>\n",
       "      <td>신규상장미래에셋비전기업인수목적호추가상장와이투솔루션 초록뱀이앤엠 테크엘 카카오 쏘카</td>\n",
       "      <td>False</td>\n",
       "    </tr>\n",
       "    <tr>\n",
       "      <th>130</th>\n",
       "      <td>카카오 분기 영업이익 억원전년 보다 감소</td>\n",
       "      <td>True</td>\n",
       "    </tr>\n",
       "    <tr>\n",
       "      <th>330</th>\n",
       "      <td>보통주추가상장대양금속더메디팜 영풍제지 카카오 주권변경상장삼성물산신주배정기준일대성창...</td>\n",
       "      <td>False</td>\n",
       "    </tr>\n",
       "    <tr>\n",
       "      <th>277</th>\n",
       "      <td>보통주추가상장이아이디 자화전자 신한지주 주권변경상장카카오 보통주추가상장 알비더블유...</td>\n",
       "      <td>False</td>\n",
       "    </tr>\n",
       "  </tbody>\n",
       "</table>\n",
       "<p>477 rows × 2 columns</p>\n",
       "</div>"
      ],
      "text/plain": [
       "                                          cleaned_text  duplicate\n",
       "32                                   주요 카카오 서비스카카오 플랫폼      False\n",
       "18                                        다음 카카오 흡수 합병      False\n",
       "41   다음커뮤니케이션은 카카오와 합병을 결정했다고 일 공시했다   공식          ...      False\n",
       "249    공정위 카카오 불공정거래 조사 착수기업결합모바일 상품권 판매업체 계약 해지 등           True\n",
       "88   유상증자파캔분할합병대유신소재다음모토닉추가 상장유원컴텍엘컴텍아이컴포넌트 네오티스   ...      False\n",
       "..                                                 ...        ...\n",
       "607   기관외국인 순매수 주요 종목하이닉스삼성전자삼성전기삼성바이오로직스현대차우셀트리온현대...      False\n",
       "289      신규상장미래에셋비전기업인수목적호추가상장와이투솔루션 초록뱀이앤엠 테크엘 카카오 쏘카      False\n",
       "130                             카카오 분기 영업이익 억원전년 보다 감소       True\n",
       "330   보통주추가상장대양금속더메디팜 영풍제지 카카오 주권변경상장삼성물산신주배정기준일대성창...      False\n",
       "277   보통주추가상장이아이디 자화전자 신한지주 주권변경상장카카오 보통주추가상장 알비더블유...      False\n",
       "\n",
       "[477 rows x 2 columns]"
      ]
     },
     "execution_count": 20,
     "metadata": {},
     "output_type": "execute_result"
    }
   ],
   "source": [
    "qry = \"cleaned_text.str.split().str.len() <= 10\"\n",
    "d_ = data.query(qry, engine=\"python\")\n",
    "print(d_.shape)\n",
    "d_[[\"cleaned_text\", \"duplicate\"]]"
   ]
  },
  {
   "attachments": {},
   "cell_type": "markdown",
   "metadata": {},
   "source": [
    "That's it! This example demonstrated the basic usage of the `hyfi_template` package. You can now use this package to manage your own projects and tasks in a structured manner.\n"
   ]
  },
  {
   "cell_type": "markdown",
   "metadata": {},
   "source": []
  }
 ],
 "metadata": {
  "colab": {
   "name": "corpus.ipynb",
   "provenance": []
  },
  "interpreter": {
   "hash": "f869af7787e6a1c49e09e367fc6e1b81d93d1c6583b43249c80edc047bd13cb2"
  },
  "kernelspec": {
   "display_name": "Python 3",
   "language": "python",
   "name": "python3"
  },
  "language_info": {
   "codemirror_mode": {
    "name": "ipython",
    "version": 3
   },
   "file_extension": ".py",
   "mimetype": "text/x-python",
   "name": "python",
   "nbconvert_exporter": "python",
   "pygments_lexer": "ipython3",
   "version": "3.8.10"
  },
  "widgets": {
   "application/vnd.jupyter.widget-state+json": {
    "state": {},
    "version_major": 2,
    "version_minor": 0
   }
  }
 },
 "nbformat": 4,
 "nbformat_minor": 1
}
