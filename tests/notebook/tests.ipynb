{
 "cells": [
  {
   "attachments": {},
   "cell_type": "markdown",
   "metadata": {
    "id": "cjgz1WTcPWee"
   },
   "source": [
    "# HyFI Test Notebook\n",
    "\n",
    "This Jupyter Notebook is used to test the HyFI package. It contains examples of how to use the package and how to create a new HyFI model.\n"
   ]
  },
  {
   "cell_type": "code",
   "execution_count": 1,
   "metadata": {},
   "outputs": [
    {
     "name": "stderr",
     "output_type": "stream",
     "text": [
      "/home/yjlee/.venvs/corporate-reputation/lib/python3.8/site-packages/tqdm/auto.py:21: TqdmWarning: IProgress not found. Please update jupyter and ipywidgets. See https://ipywidgets.readthedocs.io/en/stable/user_install.html\n",
      "  from .autonotebook import tqdm as notebook_tqdm\n"
     ]
    }
   ],
   "source": [
    "from corprep import HyFI\n"
   ]
  },
  {
   "attachments": {},
   "cell_type": "markdown",
   "metadata": {},
   "source": [
    "## Check Version\n",
    "\n",
    "Now, let's get the version of the `hyfi` package.\n"
   ]
  },
  {
   "cell_type": "code",
   "execution_count": 2,
   "metadata": {
    "id": "BzxPwsOVPWef"
   },
   "outputs": [
    {
     "name": "stdout",
     "output_type": "stream",
     "text": [
      "HyFI version: 1.21.0\n"
     ]
    }
   ],
   "source": [
    "version = HyFI.__version__\n",
    "print(\"HyFI version:\", version)"
   ]
  },
  {
   "cell_type": "code",
   "execution_count": 8,
   "metadata": {},
   "outputs": [
    {
     "data": {
      "text/plain": [
       "'{\"timestamp\": \"2023-08-03 18:33:50\", \"parsed\": \"success\", \"usage\": {\"prompt_tokens\": 2005, \"completion_tokens\": 367, \"total_tokens\": 2372}, \"response\": [{\"company\": \"카카오톡\", \"aspect\": \"management\", \"aspect_terms\": [\"규제\", \"독과점 문제\", \"공정거래위원회\", \"독점규제 및 공정거래에 관한 법률\", \"투명하고 일관된 지침\"], \"opinion_terms\": [\"망하게 두는 것이 최선이 아니라는 것\", \"규모가 작고 시스템적으로 중요하지 않던 시절에는 민간에 맡기고 안 되면 주가가 폭락하고 주주가 야단을 맞으면 대표이사를 교체하는 쪽으로 생각했을 것\", \"이제는 너무나 커졌다 이제는 국가가  안보 등에 연결된 부분을 일거에 마비시키지 않도록 하는 역할이 필요하다고 주장했다\", \"시장이 어느 정도 실패한 분야를  검토해서  필요하다면 해야 하는 단계에 있다고 본다\", \"공정위가 만들어서 개입이 불가피하다며 국제적 여건 등에 맞춰 지침을 준비하는 것이 관건이라고 강조했다\"], \"sentiment\": \"negative\"}]}'"
      ]
     },
     "execution_count": 8,
     "metadata": {},
     "output_type": "execute_result"
    }
   ],
   "source": [
    "data = HyFI.load_dataframe(\"/raid/cis/yjlee/workspace/projects/corporate-reputation/workspace/datasets/absa_results/corprep-gpt4-sample.parquet\")\n",
    "data.QUAD_pred[0]"
   ]
  },
  {
   "cell_type": "code",
   "execution_count": 5,
   "metadata": {},
   "outputs": [
    {
     "data": {
      "text/plain": [
       "Index(['createdDt', 'newsId', 'siteName', 'boardSection', 'cpName', 'category',\n",
       "       'lastModifiedDt', 'title', 'writers', 'serviceUrl', 'include_ceo',\n",
       "       'cleaned_text', 'nouns', 'createdDt_int', 'cluster', 'duplicate',\n",
       "       'fig_filename', '__index_level_0__', 'QUAD_pred'],\n",
       "      dtype='object')"
      ]
     },
     "execution_count": 5,
     "metadata": {},
     "output_type": "execute_result"
    }
   ],
   "source": [
    "data.columns"
   ]
  },
  {
   "cell_type": "code",
   "execution_count": 4,
   "metadata": {},
   "outputs": [
    {
     "name": "stdout",
     "output_type": "stream",
     "text": [
      "The system workspace root is /raid/cis/yjlee/workspace and the user is yjlee.\n",
      "\n"
     ]
    }
   ],
   "source": [
    "# Test expanding $PWD and $USER variables\n",
    "posix_expr = \"The system workspace root is $WORKSPACE_ROOT and the user is $USER.\"\n",
    "\n",
    "expanded_expr = HyFI.expand_posix_vars(posix_expr)\n",
    "print(expanded_expr)"
   ]
  },
  {
   "attachments": {},
   "cell_type": "markdown",
   "metadata": {},
   "source": [
    "## Initialize Project\n",
    "\n",
    "We'll initialize the project using the `HyFI.initialize` function. The function takes the following parameters:\n",
    "\n",
    "- `project_name`: Name of the project to use.\n",
    "- `project_description`: Description of the project that will be used.\n",
    "- `project_root`: Root directory of the project.\n",
    "- `project_workspace_name`: Name of the project's workspace directory.\n",
    "- `global_hyfi_root`: Root directory of the global hyfi.\n",
    "- `global_workspace_name`: Name of the global hierachical workspace directory.\n",
    "- `num_workers`: Number of workers to run.\n",
    "- `logging_level`: Log level for the log.\n",
    "- `autotime`: Whether to automatically set time and / or keep track of run times.\n",
    "- `retina`: Whether to use retina or not.\n",
    "- `verbose`: Enables or disables logging\n",
    "\n",
    "We'll check if we're running in Google Colab, and if so, we'll mount Google Drive.\n"
   ]
  },
  {
   "cell_type": "code",
   "execution_count": 9,
   "metadata": {},
   "outputs": [
    {
     "name": "stderr",
     "output_type": "stream",
     "text": [
      "INFO:hyfi.utils.notebooks:Google Colab not detected.\n",
      "INFO:hyfi.utils.notebooks:Extension autotime not found. Install it first.\n",
      "INFO:hyfi.joblib.joblib:initialized batcher with <hyfi.joblib.batch.batcher.Batcher object at 0x7f37841aae80>\n",
      "INFO:hyfi.main.config:HyFi project [hyfi] initialized\n"
     ]
    },
    {
     "name": "stdout",
     "output_type": "stream",
     "text": [
      "project_dir: /home/yjlee/.hyfi/projects/hyfi\n",
      "project_workspace_dir: /home/yjlee/.hyfi/projects/hyfi/workspace\n"
     ]
    }
   ],
   "source": [
    "if HyFI.is_colab():\n",
    "    HyFI.mount_google_drive()\n",
    "\n",
    "h = HyFI.initialize(\n",
    "    project_name=\"hyfi\",\n",
    "    logging_level=\"INFO\",\n",
    "    verbose=True,\n",
    ")\n",
    "\n",
    "print(\"project_dir:\", h.project.root_dir)\n",
    "print(\"project_workspace_dir:\", h.project.workspace_dir)\n"
   ]
  },
  {
   "attachments": {},
   "cell_type": "markdown",
   "metadata": {},
   "source": [
    "## Compose Configuration\n",
    "\n",
    "We can use the `HyFI.compose` function to load a configuration file. In this example, we'll use the default configuration by specifying `path=__default__`.\n"
   ]
  },
  {
   "cell_type": "code",
   "execution_count": null,
   "metadata": {},
   "outputs": [],
   "source": [
    "cfg = HyFI.compose(\"path=__batch__\")"
   ]
  },
  {
   "attachments": {},
   "cell_type": "markdown",
   "metadata": {},
   "source": [
    "## Display Configuration\n",
    "\n",
    "Now, let's print the loaded configuration using the `HyFI.print` function.\n"
   ]
  },
  {
   "cell_type": "code",
   "execution_count": null,
   "metadata": {},
   "outputs": [],
   "source": [
    "HyFI.print(cfg)"
   ]
  },
  {
   "attachments": {},
   "cell_type": "markdown",
   "metadata": {},
   "source": [
    "That's it! This example demonstrated the basic usage of the `hyfi_template` package. You can now use this package to manage your own projects and tasks in a structured manner.\n"
   ]
  },
  {
   "cell_type": "code",
   "execution_count": 10,
   "metadata": {},
   "outputs": [
    {
     "data": {
      "text/plain": [
       "'{\"timestamp\": \"2023-08-03 18:33:50\", \"parsed\": \"success\", \"usage\": {\"prompt_tokens\": 2005, \"completion_tokens\": 367, \"total_tokens\": 2372}, \"response\": [{\"company\": \"카카오톡\", \"aspect\": \"management\", \"aspect_terms\": [\"규제\", \"독과점 문제\", \"공정거래위원회\", \"독점규제 및 공정거래에 관한 법률\", \"투명하고 일관된 지침\"], \"opinion_terms\": [\"망하게 두는 것이 최선이 아니라는 것\", \"규모가 작고 시스템적으로 중요하지 않던 시절에는 민간에 맡기고 안 되면 주가가 폭락하고 주주가 야단을 맞으면 대표이사를 교체하는 쪽으로 생각했을 것\", \"이제는 너무나 커졌다 이제는 국가가  안보 등에 연결된 부분을 일거에 마비시키지 않도록 하는 역할이 필요하다고 주장했다\", \"시장이 어느 정도 실패한 분야를  검토해서  필요하다면 해야 하는 단계에 있다고 본다\", \"공정위가 만들어서 개입이 불가피하다며 국제적 여건 등에 맞춰 지침을 준비하는 것이 관건이라고 강조했다\"], \"sentiment\": \"negative\"}]}'"
      ]
     },
     "execution_count": 10,
     "metadata": {},
     "output_type": "execute_result"
    }
   ],
   "source": [
    "data = HyFI.load_dataframe(\"/raid/cis/yjlee/workspace/projects/corporate-reputation/workspace/datasets/absa_results/corprep-gpt4-sample.parquet\")\n",
    "data.QUAD_pred[0]"
   ]
  },
  {
   "cell_type": "code",
   "execution_count": null,
   "metadata": {},
   "outputs": [],
   "source": []
  }
 ],
 "metadata": {
  "colab": {
   "name": "corpus.ipynb",
   "provenance": []
  },
  "interpreter": {
   "hash": "f869af7787e6a1c49e09e367fc6e1b81d93d1c6583b43249c80edc047bd13cb2"
  },
  "kernelspec": {
   "display_name": "Python 3",
   "language": "python",
   "name": "python3"
  },
  "language_info": {
   "codemirror_mode": {
    "name": "ipython",
    "version": 3
   },
   "file_extension": ".py",
   "mimetype": "text/x-python",
   "name": "python",
   "nbconvert_exporter": "python",
   "pygments_lexer": "ipython3",
   "version": "3.8.10"
  },
  "widgets": {
   "application/vnd.jupyter.widget-state+json": {
    "state": {},
    "version_major": 2,
    "version_minor": 0
   }
  }
 },
 "nbformat": 4,
 "nbformat_minor": 1
}
