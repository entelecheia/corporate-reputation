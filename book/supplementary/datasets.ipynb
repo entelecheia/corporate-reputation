{
 "cells": [
  {
   "attachments": {},
   "cell_type": "markdown",
   "metadata": {},
   "source": [
    "# Preprocessing Datasets\n"
   ]
  },
  {
   "cell_type": "code",
   "execution_count": 1,
   "metadata": {},
   "outputs": [
    {
     "name": "stderr",
     "output_type": "stream",
     "text": [
      "/home/yj.lee/.venvs/corporate-reputation/lib/python3.8/site-packages/tqdm/auto.py:21: TqdmWarning: IProgress not found. Please update jupyter and ipywidgets. See https://ipywidgets.readthedocs.io/en/stable/user_install.html\n",
      "  from .autonotebook import tqdm as notebook_tqdm\n",
      "INFO:hyfi.composer:Composing `ProjectConfig` class with `__init__` config in `project` group.\n",
      "INFO:hyfi.composer:Composing `JobLibConfig` class with `__init__` config in `joblib` group.\n",
      "INFO:hyfi.composer:Composing `PathConfig` class with `__init__` config in `path` group.\n",
      "INFO:hyfi.joblib:initialized batcher with <hyfi.joblib.batch.batcher.Batcher object at 0x7ff231cde0a0>\n"
     ]
    },
    {
     "name": "stdout",
     "output_type": "stream",
     "text": [
      "project directory: /mnt/nvme1n1p2/home/yj.lee/workspace/projects/corporate-reputation\n",
      "project workspace directory: /mnt/nvme1n1p2/home/yj.lee/workspace/projects/corporate-reputation/workspace\n",
      " /mnt/nvme1n1p2/home/yj.lee/workspace/projects/corporate-reputation\n",
      "project workspace directory: /mnt/nvme1n1p2/home/yj.lee/workspace/projects/corporate-reputation/workspace\n"
     ]
    }
   ],
   "source": [
    "from corprep import HyFI\n",
    "\n",
    "if HyFI.is_colab():\n",
    "    HyFI.mount_google_drive()\n",
    "\n",
    "prj = HyFI.init_project(\n",
    "    project_name=\"esg-coverage\",\n",
    "    task_name=\"datasets\",\n",
    "    project_root=HyFI.dotenv().DOTENV_DIR or \".\",\n",
    "    log_level=\"WARNING\",\n",
    "    verbose=True,\n",
    ")\n",
    "\n",
    "print(\"project directory:\", prj.root_dir)\n",
    "print(\"project workspace directory:\", prj.workspace_dir)"
   ]
  },
  {
   "cell_type": "code",
   "execution_count": 18,
   "metadata": {},
   "outputs": [
    {
     "name": "stdout",
     "output_type": "stream",
     "text": [
      "['/home/yj.lee/workspace/datasets/raw/daum_news_20230707/daum_news_2014.dat', '/home/yj.lee/workspace/datasets/raw/daum_news_20230707/daum_news_2018.dat', '/home/yj.lee/workspace/datasets/raw/daum_news_20230707/daum_news_2021.dat']\n",
      "\n"
     ]
    }
   ],
   "source": [
    "raw_news_dir = prj.path.glboal_dataset_dir / \"raw/daum_news_20230707\"\n",
    "raw_data_files = []\n",
    "if raw_news_dir.exists():\n",
    "    raw_data_files = HyFI.get_filepaths(f\"{raw_news_dir}/*.dat\")\n",
    "    print(raw_data_files[:3])\n",
    "else:\n",
    "    print(\"No raw data files found.\")"
   ]
  },
  {
   "cell_type": "code",
   "execution_count": 15,
   "metadata": {},
   "outputs": [
    {
     "name": "stderr",
     "output_type": "stream",
     "text": [
      "WARNING:datasets.builder:Found cached dataset json (/home/yj.lee/.cache/huggingface/datasets/json/default-1fe10bffd59dbecf/0.0.0/e347ab1c932092252e717ff3f949105a4dd28b27e842dd53157d2f72e276c2e4)\n",
      "100%|██████████| 1/1 [00:37<00:00, 37.95s/it]\n"
     ]
    }
   ],
   "source": [
    "dataset = HyFI.load_dataset(\"json\", data_files=raw_data_files)"
   ]
  },
  {
   "cell_type": "code",
   "execution_count": 16,
   "metadata": {},
   "outputs": [
    {
     "data": {
      "text/plain": [
       "107406466"
      ]
     },
     "execution_count": 16,
     "metadata": {},
     "output_type": "execute_result"
    }
   ],
   "source": [
    "len(dataset[\"train\"])"
   ]
  },
  {
   "cell_type": "code",
   "execution_count": 17,
   "metadata": {},
   "outputs": [
    {
     "data": {
      "text/plain": [
       "{'newsId': Value(dtype='string', id=None),\n",
       " 'siteName': Value(dtype='string', id=None),\n",
       " 'boardSection': Value(dtype='string', id=None),\n",
       " 'cpName': Value(dtype='string', id=None),\n",
       " 'category': Value(dtype='string', id=None),\n",
       " 'createdDt': Value(dtype='string', id=None),\n",
       " 'lastModifiedDt': Value(dtype='string', id=None),\n",
       " 'title': Value(dtype='string', id=None),\n",
       " 'bodyText': Value(dtype='string', id=None),\n",
       " 'writers': Sequence(feature=Value(dtype='string', id=None), length=-1, id=None),\n",
       " 'serviceUrl': Value(dtype='string', id=None)}"
      ]
     },
     "execution_count": 17,
     "metadata": {},
     "output_type": "execute_result"
    }
   ],
   "source": [
    "dataset[\"train\"].features"
   ]
  },
  {
   "cell_type": "code",
   "execution_count": null,
   "metadata": {},
   "outputs": [],
   "source": []
  }
 ],
 "metadata": {
  "kernelspec": {
   "display_name": "research-P5qh1W2b-py3.8",
   "language": "python",
   "name": "python3"
  },
  "language_info": {
   "codemirror_mode": {
    "name": "ipython",
    "version": 3
   },
   "file_extension": ".py",
   "mimetype": "text/x-python",
   "name": "python",
   "nbconvert_exporter": "python",
   "pygments_lexer": "ipython3",
   "version": "3.8.10"
  },
  "orig_nbformat": 4
 },
 "nbformat": 4,
 "nbformat_minor": 2
}
