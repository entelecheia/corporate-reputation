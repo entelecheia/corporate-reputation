{
 "cells": [
  {
   "attachments": {},
   "cell_type": "markdown",
   "metadata": {},
   "source": [
    "# Preprocessing Datasets\n"
   ]
  },
  {
   "cell_type": "code",
   "execution_count": 1,
   "metadata": {},
   "outputs": [
    {
     "name": "stderr",
     "output_type": "stream",
     "text": [
      "/home/yj.lee/.venvs/corporate-reputation/lib/python3.8/site-packages/tqdm/auto.py:21: TqdmWarning: IProgress not found. Please update jupyter and ipywidgets. See https://ipywidgets.readthedocs.io/en/stable/user_install.html\n",
      "  from .autonotebook import tqdm as notebook_tqdm\n",
      "INFO:hyfi.composer:Composing `ProjectConfig` class with `__init__` config in `project` group.\n",
      "INFO:hyfi.composer:Composing `JobLibConfig` class with `__init__` config in `joblib` group.\n",
      "INFO:hyfi.composer:Composing `PathConfig` class with `__init__` config in `path` group.\n",
      "INFO:hyfi.joblib:initialized batcher with <hyfi.joblib.batch.batcher.Batcher object at 0x7f7a101dce20>\n"
     ]
    },
    {
     "name": "stdout",
     "output_type": "stream",
     "text": [
      "project directory: /mnt/nvme1n1p2/home/yj.lee/workspace/projects/corporate-reputation\n",
      "project workspace directory: /mnt/nvme1n1p2/home/yj.lee/workspace/projects/corporate-reputation/workspace\n",
      " /mnt/nvme1n1p2/home/yj.lee/workspace/projects/corporate-reputation\n",
      "project workspace directory: /mnt/nvme1n1p2/home/yj.lee/workspace/projects/corporate-reputation/workspace\n"
     ]
    }
   ],
   "source": [
    "from corprep import HyFI\n",
    "\n",
    "if HyFI.is_colab():\n",
    "    HyFI.mount_google_drive()\n",
    "\n",
    "prj = HyFI.init_project(\n",
    "    project_name=\"esg-coverage\",\n",
    "    task_name=\"datasets\",\n",
    "    project_root=HyFI.dotenv().DOTENV_DIR or \".\",\n",
    "    log_level=\"WARNING\",\n",
    "    verbose=True,\n",
    ")\n",
    "\n",
    "print(\"project directory:\", prj.root_dir)\n",
    "print(\"project workspace directory:\", prj.workspace_dir)\n"
   ]
  },
  {
   "cell_type": "code",
   "execution_count": null,
   "metadata": {},
   "outputs": [],
   "source": []
  }
 ],
 "metadata": {
  "kernelspec": {
   "display_name": "research-P5qh1W2b-py3.8",
   "language": "python",
   "name": "python3"
  },
  "language_info": {
   "codemirror_mode": {
    "name": "ipython",
    "version": 3
   },
   "file_extension": ".py",
   "mimetype": "text/x-python",
   "name": "python",
   "nbconvert_exporter": "python",
   "pygments_lexer": "ipython3",
   "version": "3.8.10"
  },
  "orig_nbformat": 4
 },
 "nbformat": 4,
 "nbformat_minor": 2
}
