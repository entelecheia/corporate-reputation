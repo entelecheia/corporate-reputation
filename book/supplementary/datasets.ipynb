{
 "cells": [
  {
   "attachments": {},
   "cell_type": "markdown",
   "metadata": {},
   "source": [
    "# Preprocessing Datasets\n"
   ]
  },
  {
   "cell_type": "code",
   "execution_count": 4,
   "metadata": {},
   "outputs": [
    {
     "name": "stderr",
     "output_type": "stream",
     "text": [
      "INFO:hyfi.composer:Composing `ProjectConfig` class with `__init__` config in `project` group.\n",
      "INFO:hyfi.composer:Composing `JobLibConfig` class with `__init__` config in `joblib` group.\n",
      "INFO:hyfi.composer:Composing `PathConfig` class with `__init__` config in `path` group.\n",
      "INFO:hyfi.joblib:initialized batcher with <hyfi.joblib.batch.batcher.Batcher object at 0x7f372c77b610>\n"
     ]
    },
    {
     "name": "stdout",
     "output_type": "stream",
     "text": [
      "project directory: /raid/cis/yjlee/workspace/projects/corporate-reputation\n",
      "project workspace directory: /raid/cis/yjlee/workspace/projects/corporate-reputation/workspace\n",
      " /raid/cis/yjlee/workspace/projects/corporate-reputation\n",
      "project workspace directory: /raid/cis/yjlee/workspace/projects/corporate-reputation/workspace\n"
     ]
    }
   ],
   "source": [
    "from corprep import HyFI  # type: ignore\n",
    "\n",
    "if HyFI.is_colab():\n",
    "    HyFI.mount_google_drive()\n",
    "\n",
    "prj = HyFI.init_project(\n",
    "    project_name=\"corporate-reputation\",\n",
    "    project_root=HyFI.dotenv().DOTENV_DIR or \".\",\n",
    "    global_workspace_name=\"workspace\",\n",
    "    log_level=\"WARNING\",\n",
    "    verbose=True,\n",
    ")\n",
    "\n",
    "print(\"project directory:\", prj.root_dir)\n",
    "print(\"project workspace directory:\", prj.workspace_dir)\n"
   ]
  },
  {
   "cell_type": "code",
   "execution_count": 6,
   "metadata": {},
   "outputs": [
    {
     "name": "stdout",
     "output_type": "stream",
     "text": [
      "['/home/yjlee/workspace/datasets/raw/daum_news_20230707/daum_news_2018.dat', '/home/yjlee/workspace/datasets/raw/daum_news_20230707/daum_news_2011.dat', '/home/yjlee/workspace/datasets/raw/daum_news_20230707/daum_news_2021.dat']\n",
      "\n"
     ]
    }
   ],
   "source": [
    "raw_news_dir = prj.path.glboal_dataset_dir / \"raw/daum_news_20230707\"\n",
    "raw_data_files = []\n",
    "if raw_news_dir.exists():\n",
    "    raw_data_files = HyFI.get_filepaths(f\"{raw_news_dir}/*.dat\")\n",
    "    print(raw_data_files[:3])\n",
    "else:\n",
    "    print(\"No raw data files found.\")\n"
   ]
  },
  {
   "cell_type": "code",
   "execution_count": null,
   "metadata": {},
   "outputs": [],
   "source": []
  }
 ],
 "metadata": {
  "kernelspec": {
   "display_name": "research-P5qh1W2b-py3.8",
   "language": "python",
   "name": "python3"
  },
  "language_info": {
   "codemirror_mode": {
    "name": "ipython",
    "version": 3
   },
   "file_extension": ".py",
   "mimetype": "text/x-python",
   "name": "python",
   "nbconvert_exporter": "python",
   "pygments_lexer": "ipython3",
   "version": "3.8.10"
  },
  "orig_nbformat": 4
 },
 "nbformat": 4,
 "nbformat_minor": 2
}
